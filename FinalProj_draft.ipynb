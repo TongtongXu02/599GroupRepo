{
 "cells": [
  {
   "cell_type": "code",
   "execution_count": 1,
   "metadata": {},
   "outputs": [],
   "source": [
    "import pandas as pd\n",
    "import numpy as np\n"
   ]
  },
  {
   "cell_type": "code",
   "execution_count": 2,
   "metadata": {},
   "outputs": [],
   "source": [
    "# Make a dataFrame from the Income per Capita Excel file.\n",
    "# Note that hhe file needs to be in the same folder as this python file)\n",
    "ipc = pd.read_excel(\"income_per_capita.xlsx\", \"Sheet1\",\n",
    "                    index_col=0, na_values=['NA'])\n"
   ]
  },
  {
   "cell_type": "code",
   "execution_count": 3,
   "metadata": {},
   "outputs": [],
   "source": [
    "# Make a dataFrame from Total Import from China to US Excel file\n",
    "totalImp = pd.read_excel(\"total_import_from_china_to_US.xlsx\",\n",
    "                         \"Sheet1\", index_col=0, na_values=['NA'])"
   ]
  },
  {
   "cell_type": "code",
   "execution_count": 4,
   "metadata": {},
   "outputs": [],
   "source": [
    "# Make a dataFrame from China Applied Simple Mean Tariff Excel file\n",
    "chn = pd.read_excel(\"china_applied_simple_mean_tariff.xlsx\", \n",
    "                    \"CleanedUp\", index_col=0, na_values=['NA'])\n",
    "\n",
    "# Note than this file contains missing data (years 1995, 2012, 2013, 2018), \n",
    "# but it is coded as 'NaN' which is different from null. It's all good.  "
   ]
  },
  {
   "cell_type": "code",
   "execution_count": null,
   "metadata": {},
   "outputs": [],
   "source": [
    "# Merging ipc and totalImp dataFrames (Can merge two dataFrames at a time)\n",
    "temp = pd.merge(ipc,totalImp, on=\"Year\")"
   ]
  },
  {
   "cell_type": "code",
   "execution_count": null,
   "metadata": {},
   "outputs": [],
   "source": [
    "# Mearging merged and chn dataFrames\n",
    "merged = pd.merge(temp, chn, on=\"Year\")"
   ]
  },
  {
   "cell_type": "code",
   "execution_count": null,
   "metadata": {},
   "outputs": [],
   "source": [
    "merged\n",
    "# Notice that years are ranged from 2005 to 2017"
   ]
  },
  {
   "cell_type": "code",
   "execution_count": null,
   "metadata": {},
   "outputs": [],
   "source": [
    "merged.dtypes\n",
    "merged.info()"
   ]
  },
  {
   "cell_type": "code",
   "execution_count": null,
   "metadata": {},
   "outputs": [],
   "source": [
    "# Simple descriptive statistics (13 columns, mean tariff is 8.36, etc. )\n",
    "merged.describe()"
   ]
  },
  {
   "cell_type": "code",
   "execution_count": null,
   "metadata": {},
   "outputs": [],
   "source": [
    "\n"
   ]
  },
  {
   "cell_type": "code",
   "execution_count": null,
   "metadata": {},
   "outputs": [],
   "source": [
    "# Testing using the scatter plot. \n",
    "import matplotlib.pyplot as plt\n",
    "\n",
    "pd.plotting.scatter_matrix(merged.iloc[:,1:]) \n",
    "plt.show()\n",
    "# Looking at all data, you can see Tariff is negatively correlated. \n",
    "# So as in the professor's example for scorepress, \n",
    "# Tariff might need to be reversed"
   ]
  },
  {
   "cell_type": "code",
   "execution_count": null,
   "metadata": {},
   "outputs": [],
   "source": [
    "# Using Professor's reversing function to reverse Tariff to see a difference\n",
    "# However I want to put that reversed value in a new column so creating a new column \n",
    "# on the dataFrame\n",
    "\n",
    "\n",
    "#### creating reversing function:  [Prof M's work]\n",
    "def reverse(aColumn):\n",
    "    return max(aColumn) - aColumn + min(aColumn)   # I see what he did!\n",
    "\n",
    "# Making a new column to put reversed Tariff data; and using \n",
    "# reverse function \n",
    "merged['Tariff_Reversed'] = reverse(merged.Tariff)\n",
    "\n",
    "pd.plotting.scatter_matrix(merged.iloc[:,1:])\n",
    "plt.show()"
   ]
  },
  {
   "cell_type": "code",
   "execution_count": null,
   "metadata": {},
   "outputs": [],
   "source": [
    "# Following renaming method that Professor used.\n",
    "\n",
    "merged.columns  # Check current column names\n",
    "\n",
    "#newNames \n",
    "newNames=['populationUS', 'medianIncomeCurrentDollar',\n",
    "          'medianIncomeIn2017Dollar', 'totalImportInUSD', \n",
    "          'tariffPercentage', 'reversedTariff']\n",
    "## creating map\n",
    "nameChanges={old:new for old,new in zip(merged.columns,newNames)}\n",
    "\n",
    "nameChanges  # Check the changes in column names"
   ]
  },
  {
   "cell_type": "code",
   "execution_count": null,
   "metadata": {
    "scrolled": true
   },
   "outputs": [],
   "source": [
    "# Change the column names to new names\n",
    "merged.rename(nameChanges,axis=1,inplace=True)\n",
    "\n",
    "merged  # Checking"
   ]
  },
  {
   "cell_type": "code",
   "execution_count": null,
   "metadata": {},
   "outputs": [],
   "source": [
    "# Now save as a csv format to use in R\n",
    "merged.to_csv(\"tariff_import.csv\", index=True)  \n",
    "# index=True is the default but specified it to emphasize \n",
    "# that we're using Year the index for data rows"
   ]
  },
  {
   "cell_type": "code",
   "execution_count": null,
   "metadata": {},
   "outputs": [],
   "source": []
  }
 ],
 "metadata": {
  "kernelspec": {
   "display_name": "Python 3",
   "language": "python",
   "name": "python3"
  },
  "language_info": {
   "codemirror_mode": {
    "name": "ipython",
    "version": 3
   },
   "file_extension": ".py",
   "mimetype": "text/x-python",
   "name": "python",
   "nbconvert_exporter": "python",
   "pygments_lexer": "ipython3",
   "version": "3.7.1"
  }
 },
 "nbformat": 4,
 "nbformat_minor": 2
}
